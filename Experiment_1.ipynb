{
  "nbformat": 4,
  "nbformat_minor": 0,
  "metadata": {
    "colab": {
      "provenance": []
    },
    "kernelspec": {
      "name": "python3",
      "display_name": "Python 3"
    },
    "language_info": {
      "name": "python"
    }
  },
  "cells": [
    {
      "cell_type": "markdown",
      "source": [
        "#**Importing Necessary Libraries**"
      ],
      "metadata": {
        "id": "iJ0ZKrDxffoG"
      }
    },
    {
      "cell_type": "code",
      "execution_count": null,
      "metadata": {
        "id": "JuKSi3EJyGb-"
      },
      "outputs": [],
      "source": [
        "import numpy as np\n",
        "import pandas as pd"
      ]
    },
    {
      "cell_type": "markdown",
      "source": [
        "#**Loading the Combined Cycle Power Plant Dataset**\n",
        "\n",
        "The dataset contains 9568 data points collected from a Combined Cycle Power Plant over 6 years (2006-2011), when the power plant was set to work with full load. Features consist of **hourly average ambient variables Temperature (AT)**, **Ambient Pressure (AP)**, **Relative Humidity (RH)** and **Exhaust Vacuum (V)** to predict the net **hourly electrical energy output (PE)** of the plant.\n",
        "\n",
        "* **For more information visit below link:**\n",
        "Link: https://archive.ics.uci.edu/ml/datasets/Combined+Cycle+Power+Plant\n",
        "\n",
        "\n",
        "\n"
      ],
      "metadata": {
        "id": "92epT7aZgF74"
      }
    },
    {
      "cell_type": "code",
      "source": [
        "Powerplant_data = pd.read_excel('/content/drive/MyDrive/AMITY/Deep Learning (codes)/Data/Folds5x2_pp.xlsx')\n",
        "Powerplant_data.head(5)"
      ],
      "metadata": {
        "colab": {
          "base_uri": "https://localhost:8080/",
          "height": 206
        },
        "id": "mslwX-u6eqdi",
        "outputId": "a206ad01-c607-40ff-f8c1-7a76746d74b6"
      },
      "execution_count": null,
      "outputs": [
        {
          "output_type": "execute_result",
          "data": {
            "text/plain": [
              "      AT      V       AP     RH      PE\n",
              "0  14.96  41.76  1024.07  73.17  463.26\n",
              "1  25.18  62.96  1020.04  59.08  444.37\n",
              "2   5.11  39.40  1012.16  92.14  488.56\n",
              "3  20.86  57.32  1010.24  76.64  446.48\n",
              "4  10.82  37.50  1009.23  96.62  473.90"
            ],
            "text/html": [
              "\n",
              "  <div id=\"df-09b7884f-aef9-4596-9105-aaf2e1ae28d3\">\n",
              "    <div class=\"colab-df-container\">\n",
              "      <div>\n",
              "<style scoped>\n",
              "    .dataframe tbody tr th:only-of-type {\n",
              "        vertical-align: middle;\n",
              "    }\n",
              "\n",
              "    .dataframe tbody tr th {\n",
              "        vertical-align: top;\n",
              "    }\n",
              "\n",
              "    .dataframe thead th {\n",
              "        text-align: right;\n",
              "    }\n",
              "</style>\n",
              "<table border=\"1\" class=\"dataframe\">\n",
              "  <thead>\n",
              "    <tr style=\"text-align: right;\">\n",
              "      <th></th>\n",
              "      <th>AT</th>\n",
              "      <th>V</th>\n",
              "      <th>AP</th>\n",
              "      <th>RH</th>\n",
              "      <th>PE</th>\n",
              "    </tr>\n",
              "  </thead>\n",
              "  <tbody>\n",
              "    <tr>\n",
              "      <th>0</th>\n",
              "      <td>14.96</td>\n",
              "      <td>41.76</td>\n",
              "      <td>1024.07</td>\n",
              "      <td>73.17</td>\n",
              "      <td>463.26</td>\n",
              "    </tr>\n",
              "    <tr>\n",
              "      <th>1</th>\n",
              "      <td>25.18</td>\n",
              "      <td>62.96</td>\n",
              "      <td>1020.04</td>\n",
              "      <td>59.08</td>\n",
              "      <td>444.37</td>\n",
              "    </tr>\n",
              "    <tr>\n",
              "      <th>2</th>\n",
              "      <td>5.11</td>\n",
              "      <td>39.40</td>\n",
              "      <td>1012.16</td>\n",
              "      <td>92.14</td>\n",
              "      <td>488.56</td>\n",
              "    </tr>\n",
              "    <tr>\n",
              "      <th>3</th>\n",
              "      <td>20.86</td>\n",
              "      <td>57.32</td>\n",
              "      <td>1010.24</td>\n",
              "      <td>76.64</td>\n",
              "      <td>446.48</td>\n",
              "    </tr>\n",
              "    <tr>\n",
              "      <th>4</th>\n",
              "      <td>10.82</td>\n",
              "      <td>37.50</td>\n",
              "      <td>1009.23</td>\n",
              "      <td>96.62</td>\n",
              "      <td>473.90</td>\n",
              "    </tr>\n",
              "  </tbody>\n",
              "</table>\n",
              "</div>\n",
              "      <button class=\"colab-df-convert\" onclick=\"convertToInteractive('df-09b7884f-aef9-4596-9105-aaf2e1ae28d3')\"\n",
              "              title=\"Convert this dataframe to an interactive table.\"\n",
              "              style=\"display:none;\">\n",
              "        \n",
              "  <svg xmlns=\"http://www.w3.org/2000/svg\" height=\"24px\"viewBox=\"0 0 24 24\"\n",
              "       width=\"24px\">\n",
              "    <path d=\"M0 0h24v24H0V0z\" fill=\"none\"/>\n",
              "    <path d=\"M18.56 5.44l.94 2.06.94-2.06 2.06-.94-2.06-.94-.94-2.06-.94 2.06-2.06.94zm-11 1L8.5 8.5l.94-2.06 2.06-.94-2.06-.94L8.5 2.5l-.94 2.06-2.06.94zm10 10l.94 2.06.94-2.06 2.06-.94-2.06-.94-.94-2.06-.94 2.06-2.06.94z\"/><path d=\"M17.41 7.96l-1.37-1.37c-.4-.4-.92-.59-1.43-.59-.52 0-1.04.2-1.43.59L10.3 9.45l-7.72 7.72c-.78.78-.78 2.05 0 2.83L4 21.41c.39.39.9.59 1.41.59.51 0 1.02-.2 1.41-.59l7.78-7.78 2.81-2.81c.8-.78.8-2.07 0-2.86zM5.41 20L4 18.59l7.72-7.72 1.47 1.35L5.41 20z\"/>\n",
              "  </svg>\n",
              "      </button>\n",
              "      \n",
              "  <style>\n",
              "    .colab-df-container {\n",
              "      display:flex;\n",
              "      flex-wrap:wrap;\n",
              "      gap: 12px;\n",
              "    }\n",
              "\n",
              "    .colab-df-convert {\n",
              "      background-color: #E8F0FE;\n",
              "      border: none;\n",
              "      border-radius: 50%;\n",
              "      cursor: pointer;\n",
              "      display: none;\n",
              "      fill: #1967D2;\n",
              "      height: 32px;\n",
              "      padding: 0 0 0 0;\n",
              "      width: 32px;\n",
              "    }\n",
              "\n",
              "    .colab-df-convert:hover {\n",
              "      background-color: #E2EBFA;\n",
              "      box-shadow: 0px 1px 2px rgba(60, 64, 67, 0.3), 0px 1px 3px 1px rgba(60, 64, 67, 0.15);\n",
              "      fill: #174EA6;\n",
              "    }\n",
              "\n",
              "    [theme=dark] .colab-df-convert {\n",
              "      background-color: #3B4455;\n",
              "      fill: #D2E3FC;\n",
              "    }\n",
              "\n",
              "    [theme=dark] .colab-df-convert:hover {\n",
              "      background-color: #434B5C;\n",
              "      box-shadow: 0px 1px 3px 1px rgba(0, 0, 0, 0.15);\n",
              "      filter: drop-shadow(0px 1px 2px rgba(0, 0, 0, 0.3));\n",
              "      fill: #FFFFFF;\n",
              "    }\n",
              "  </style>\n",
              "\n",
              "      <script>\n",
              "        const buttonEl =\n",
              "          document.querySelector('#df-09b7884f-aef9-4596-9105-aaf2e1ae28d3 button.colab-df-convert');\n",
              "        buttonEl.style.display =\n",
              "          google.colab.kernel.accessAllowed ? 'block' : 'none';\n",
              "\n",
              "        async function convertToInteractive(key) {\n",
              "          const element = document.querySelector('#df-09b7884f-aef9-4596-9105-aaf2e1ae28d3');\n",
              "          const dataTable =\n",
              "            await google.colab.kernel.invokeFunction('convertToInteractive',\n",
              "                                                     [key], {});\n",
              "          if (!dataTable) return;\n",
              "\n",
              "          const docLinkHtml = 'Like what you see? Visit the ' +\n",
              "            '<a target=\"_blank\" href=https://colab.research.google.com/notebooks/data_table.ipynb>data table notebook</a>'\n",
              "            + ' to learn more about interactive tables.';\n",
              "          element.innerHTML = '';\n",
              "          dataTable['output_type'] = 'display_data';\n",
              "          await google.colab.output.renderOutput(dataTable, element);\n",
              "          const docLink = document.createElement('div');\n",
              "          docLink.innerHTML = docLinkHtml;\n",
              "          element.appendChild(docLink);\n",
              "        }\n",
              "      </script>\n",
              "    </div>\n",
              "  </div>\n",
              "  "
            ]
          },
          "metadata": {},
          "execution_count": 2
        }
      ]
    },
    {
      "cell_type": "markdown",
      "source": [
        "#**Accessing the Column Names in the Dataset**"
      ],
      "metadata": {
        "id": "TgacS0JggQgr"
      }
    },
    {
      "cell_type": "code",
      "source": [
        "Powerplant_data.columns"
      ],
      "metadata": {
        "colab": {
          "base_uri": "https://localhost:8080/"
        },
        "id": "hqRcQ0jffWS6",
        "outputId": "68bea117-e332-44e1-fe43-53689ea8cb55"
      },
      "execution_count": null,
      "outputs": [
        {
          "output_type": "execute_result",
          "data": {
            "text/plain": [
              "Index(['AT', 'V', 'AP', 'RH', 'PE'], dtype='object')"
            ]
          },
          "metadata": {},
          "execution_count": 3
        }
      ]
    },
    {
      "cell_type": "markdown",
      "source": [
        "#**Finding the Shape of the Dataset**"
      ],
      "metadata": {
        "id": "WbWc384ZgkNk"
      }
    },
    {
      "cell_type": "code",
      "source": [
        "Powerplant_data.shape"
      ],
      "metadata": {
        "colab": {
          "base_uri": "https://localhost:8080/"
        },
        "id": "v3r-6BsCfO6O",
        "outputId": "2c1d71e8-a351-4f94-b882-2ecbc7db780e"
      },
      "execution_count": null,
      "outputs": [
        {
          "output_type": "execute_result",
          "data": {
            "text/plain": [
              "(9568, 5)"
            ]
          },
          "metadata": {},
          "execution_count": 4
        }
      ]
    },
    {
      "cell_type": "code",
      "source": [
        "Powerplant_data.info()"
      ],
      "metadata": {
        "colab": {
          "base_uri": "https://localhost:8080/"
        },
        "id": "DR5iJOoggqVl",
        "outputId": "d83fa7e3-d6a9-413b-cd3e-0f0e71ef6383"
      },
      "execution_count": null,
      "outputs": [
        {
          "output_type": "stream",
          "name": "stdout",
          "text": [
            "<class 'pandas.core.frame.DataFrame'>\n",
            "RangeIndex: 9568 entries, 0 to 9567\n",
            "Data columns (total 5 columns):\n",
            " #   Column  Non-Null Count  Dtype  \n",
            "---  ------  --------------  -----  \n",
            " 0   AT      9568 non-null   float64\n",
            " 1   V       9568 non-null   float64\n",
            " 2   AP      9568 non-null   float64\n",
            " 3   RH      9568 non-null   float64\n",
            " 4   PE      9568 non-null   float64\n",
            "dtypes: float64(5)\n",
            "memory usage: 373.9 KB\n"
          ]
        }
      ]
    },
    {
      "cell_type": "markdown",
      "source": [
        "#**Checking Missing Values**"
      ],
      "metadata": {
        "id": "MOi7okQ_tQrB"
      }
    },
    {
      "cell_type": "code",
      "source": [
        "Powerplant_data.isna().sum()"
      ],
      "metadata": {
        "id": "3XbsLJg0tN-L",
        "colab": {
          "base_uri": "https://localhost:8080/"
        },
        "outputId": "9fc2efbd-0da9-4a01-885d-796092dbd682"
      },
      "execution_count": null,
      "outputs": [
        {
          "output_type": "execute_result",
          "data": {
            "text/plain": [
              "AT    0\n",
              "V     0\n",
              "AP    0\n",
              "RH    0\n",
              "PE    0\n",
              "dtype: int64"
            ]
          },
          "metadata": {},
          "execution_count": 6
        }
      ]
    },
    {
      "cell_type": "markdown",
      "source": [
        "# **Number of Unique Items in Each Column**"
      ],
      "metadata": {
        "id": "gL5klaMFg4U0"
      }
    },
    {
      "cell_type": "code",
      "source": [
        "Powerplant_data.nunique()"
      ],
      "metadata": {
        "colab": {
          "base_uri": "https://localhost:8080/"
        },
        "id": "yNjlTn9yhJtA",
        "outputId": "c01cd1b6-82be-48e5-b150-a9a69594279b"
      },
      "execution_count": null,
      "outputs": [
        {
          "output_type": "execute_result",
          "data": {
            "text/plain": [
              "AT    2773\n",
              "V      634\n",
              "AP    2517\n",
              "RH    4546\n",
              "PE    4836\n",
              "dtype: int64"
            ]
          },
          "metadata": {},
          "execution_count": 7
        }
      ]
    },
    {
      "cell_type": "markdown",
      "source": [
        "#**Seperating Label from Data**"
      ],
      "metadata": {
        "id": "RBhC2pV6kG-m"
      }
    },
    {
      "cell_type": "code",
      "source": [
        "X = Powerplant_data.iloc[:, :-1].values\n",
        "y = Powerplant_data.iloc[:, -1].values"
      ],
      "metadata": {
        "id": "CU-h5H-vilid"
      },
      "execution_count": null,
      "outputs": []
    },
    {
      "cell_type": "markdown",
      "source": [
        "or"
      ],
      "metadata": {
        "id": "yH-AFtD6VZUG"
      }
    },
    {
      "cell_type": "code",
      "source": [
        "# y = Powerplant_data['PE']\n",
        "# X = Powerplant_data.drop(['PE'],axis=1)"
      ],
      "metadata": {
        "id": "0SEu3sjWVaMl"
      },
      "execution_count": null,
      "outputs": []
    },
    {
      "cell_type": "markdown",
      "source": [
        "#**Splitting the Data into Training and Testing**"
      ],
      "metadata": {
        "id": "OB8cY_fNk2KG"
      }
    },
    {
      "cell_type": "code",
      "source": [
        "from sklearn.model_selection import train_test_split\n",
        "X_train, X_test, y_train, y_test = train_test_split(X, y, test_size = 0.2, shuffle=True)\n",
        "X_train, X_val, y_train, y_val = train_test_split(X_train,y_train, test_size = 0.2, shuffle=True)"
      ],
      "metadata": {
        "id": "ONhh9fw5kunZ"
      },
      "execution_count": null,
      "outputs": []
    },
    {
      "cell_type": "code",
      "source": [
        "print(\"Shape of the X_train\", X_train.shape)\n",
        "print(\"Shape of the X_test\", X_test.shape)\n",
        "print(\"Shape of the X_val\", X_val.shape)\n",
        "print(\"Shape of the y_train\", y_train.shape)\n",
        "print(\"Shape of the y_test\", y_test.shape)\n",
        "print(\"Shape of the y_val\", y_val.shape)"
      ],
      "metadata": {
        "colab": {
          "base_uri": "https://localhost:8080/"
        },
        "id": "n7QUNsrflJyd",
        "outputId": "53471f08-3542-4d89-caa1-40fe7f8aa228"
      },
      "execution_count": null,
      "outputs": [
        {
          "output_type": "stream",
          "name": "stdout",
          "text": [
            "Shape of the X_train (6123, 4)\n",
            "Shape of the X_test (1914, 4)\n",
            "Shape of the X_val (1531, 4)\n",
            "Shape of the y_train (6123,)\n",
            "Shape of the y_test (1914,)\n",
            "Shape of the y_val (1531,)\n"
          ]
        }
      ]
    },
    {
      "cell_type": "markdown",
      "source": [
        "#**Building the ANN Model**"
      ],
      "metadata": {
        "id": "N-18bjO3rOHB"
      }
    },
    {
      "cell_type": "code",
      "source": [
        "# sequential model to initialise our ann and dense module to build the layers\n",
        "from keras.models import Sequential\n",
        "from keras.layers import Dense"
      ],
      "metadata": {
        "id": "lYWxtWt4lwsa"
      },
      "execution_count": null,
      "outputs": []
    },
    {
      "cell_type": "code",
      "source": [
        "classifier = Sequential()\n",
        "# Adding the input layer and the first hidden layer\n",
        "classifier.add(Dense(units = 8, kernel_initializer = 'uniform', activation = 'relu', input_dim = 4))\n",
        "\n",
        "# Adding the second hidden layer\n",
        "classifier.add(Dense(units = 16, kernel_initializer = 'uniform', activation = 'relu'))\n",
        "\n",
        "# Adding the third hidden layer\n",
        "classifier.add(Dense(units = 32, kernel_initializer = 'uniform', activation = 'relu'))\n",
        "\n",
        "# Adding the output layer\n",
        "classifier.add(Dense(units = 1, kernel_initializer = 'uniform'))"
      ],
      "metadata": {
        "id": "5SHVdj9Xl6se"
      },
      "execution_count": null,
      "outputs": []
    },
    {
      "cell_type": "markdown",
      "source": [
        "# **Compiling and Fitting the Model**"
      ],
      "metadata": {
        "id": "MDjrKcLnrSw0"
      }
    },
    {
      "cell_type": "code",
      "source": [
        "classifier.compile(optimizer = 'adam', loss = 'mean_squared_error', metrics = ['MeanSquaredLogarithmicError'])\n",
        "\n",
        "# Fitting the ANN to the Training set\n",
        "model = classifier.fit(X_train, y_train, batch_size = 32, epochs = 200,validation_data=(X_val, y_val),\n",
        "              shuffle=True)"
      ],
      "metadata": {
        "colab": {
          "base_uri": "https://localhost:8080/"
        },
        "id": "RRtVuxFumFcS",
        "outputId": "ca7156ce-3a8f-42b4-8659-87db04c49ff5"
      },
      "execution_count": null,
      "outputs": [
        {
          "output_type": "stream",
          "name": "stdout",
          "text": [
            "Epoch 1/200\n",
            "192/192 [==============================] - 1s 2ms/step - loss: 94744.7422 - mean_squared_logarithmic_error: 8.7163 - val_loss: 417.8131 - val_mean_squared_logarithmic_error: 0.0020\n",
            "Epoch 2/200\n",
            "192/192 [==============================] - 0s 2ms/step - loss: 396.9968 - mean_squared_logarithmic_error: 0.0019 - val_loss: 388.0271 - val_mean_squared_logarithmic_error: 0.0019\n",
            "Epoch 3/200\n",
            "192/192 [==============================] - 0s 2ms/step - loss: 366.8302 - mean_squared_logarithmic_error: 0.0018 - val_loss: 355.1375 - val_mean_squared_logarithmic_error: 0.0017\n",
            "Epoch 4/200\n",
            "192/192 [==============================] - 0s 2ms/step - loss: 330.9792 - mean_squared_logarithmic_error: 0.0016 - val_loss: 313.2041 - val_mean_squared_logarithmic_error: 0.0015\n",
            "Epoch 5/200\n",
            "192/192 [==============================] - 0s 2ms/step - loss: 295.0399 - mean_squared_logarithmic_error: 0.0014 - val_loss: 283.3294 - val_mean_squared_logarithmic_error: 0.0014\n",
            "Epoch 6/200\n",
            "192/192 [==============================] - 0s 3ms/step - loss: 256.2054 - mean_squared_logarithmic_error: 0.0012 - val_loss: 239.8331 - val_mean_squared_logarithmic_error: 0.0011\n",
            "Epoch 7/200\n",
            "192/192 [==============================] - 0s 2ms/step - loss: 220.3646 - mean_squared_logarithmic_error: 0.0011 - val_loss: 206.0055 - val_mean_squared_logarithmic_error: 9.8837e-04\n",
            "Epoch 8/200\n",
            "192/192 [==============================] - 1s 3ms/step - loss: 186.3006 - mean_squared_logarithmic_error: 8.8857e-04 - val_loss: 170.8776 - val_mean_squared_logarithmic_error: 8.1767e-04\n",
            "Epoch 9/200\n",
            "192/192 [==============================] - 0s 2ms/step - loss: 156.7265 - mean_squared_logarithmic_error: 7.4749e-04 - val_loss: 141.3121 - val_mean_squared_logarithmic_error: 6.7284e-04\n",
            "Epoch 10/200\n",
            "192/192 [==============================] - 0s 2ms/step - loss: 130.5761 - mean_squared_logarithmic_error: 6.2224e-04 - val_loss: 117.0473 - val_mean_squared_logarithmic_error: 5.5745e-04\n",
            "Epoch 11/200\n",
            "192/192 [==============================] - 0s 2ms/step - loss: 109.5170 - mean_squared_logarithmic_error: 5.2175e-04 - val_loss: 97.1500 - val_mean_squared_logarithmic_error: 4.6350e-04\n",
            "Epoch 12/200\n",
            "192/192 [==============================] - 0s 2ms/step - loss: 91.6286 - mean_squared_logarithmic_error: 4.3663e-04 - val_loss: 85.0706 - val_mean_squared_logarithmic_error: 4.0957e-04\n",
            "Epoch 13/200\n",
            "192/192 [==============================] - 0s 2ms/step - loss: 77.3682 - mean_squared_logarithmic_error: 3.6900e-04 - val_loss: 68.2893 - val_mean_squared_logarithmic_error: 3.2578e-04\n",
            "Epoch 14/200\n",
            "192/192 [==============================] - 0s 2ms/step - loss: 68.0294 - mean_squared_logarithmic_error: 3.2460e-04 - val_loss: 58.4914 - val_mean_squared_logarithmic_error: 2.7870e-04\n",
            "Epoch 15/200\n",
            "192/192 [==============================] - 0s 2ms/step - loss: 57.2206 - mean_squared_logarithmic_error: 2.7324e-04 - val_loss: 51.9607 - val_mean_squared_logarithmic_error: 2.4935e-04\n",
            "Epoch 16/200\n",
            "192/192 [==============================] - 0s 2ms/step - loss: 50.2599 - mean_squared_logarithmic_error: 2.4011e-04 - val_loss: 46.0584 - val_mean_squared_logarithmic_error: 2.1897e-04\n",
            "Epoch 17/200\n",
            "192/192 [==============================] - 0s 2ms/step - loss: 44.9264 - mean_squared_logarithmic_error: 2.1458e-04 - val_loss: 42.1063 - val_mean_squared_logarithmic_error: 2.0215e-04\n",
            "Epoch 18/200\n",
            "192/192 [==============================] - 0s 2ms/step - loss: 40.5622 - mean_squared_logarithmic_error: 1.9366e-04 - val_loss: 36.4837 - val_mean_squared_logarithmic_error: 1.7365e-04\n",
            "Epoch 19/200\n",
            "192/192 [==============================] - 0s 2ms/step - loss: 37.6373 - mean_squared_logarithmic_error: 1.7970e-04 - val_loss: 34.1213 - val_mean_squared_logarithmic_error: 1.6219e-04\n",
            "Epoch 20/200\n",
            "192/192 [==============================] - 0s 1ms/step - loss: 34.8491 - mean_squared_logarithmic_error: 1.6623e-04 - val_loss: 31.0996 - val_mean_squared_logarithmic_error: 1.4802e-04\n",
            "Epoch 21/200\n",
            "192/192 [==============================] - 0s 2ms/step - loss: 32.7232 - mean_squared_logarithmic_error: 1.5601e-04 - val_loss: 29.7610 - val_mean_squared_logarithmic_error: 1.4182e-04\n",
            "Epoch 22/200\n",
            "192/192 [==============================] - 0s 2ms/step - loss: 31.4196 - mean_squared_logarithmic_error: 1.4963e-04 - val_loss: 28.7305 - val_mean_squared_logarithmic_error: 1.3689e-04\n",
            "Epoch 23/200\n",
            "192/192 [==============================] - 0s 2ms/step - loss: 30.7103 - mean_squared_logarithmic_error: 1.4625e-04 - val_loss: 28.6659 - val_mean_squared_logarithmic_error: 1.3675e-04\n",
            "Epoch 24/200\n",
            "192/192 [==============================] - 0s 2ms/step - loss: 30.3179 - mean_squared_logarithmic_error: 1.4428e-04 - val_loss: 30.1468 - val_mean_squared_logarithmic_error: 1.4317e-04\n",
            "Epoch 25/200\n",
            "192/192 [==============================] - 0s 2ms/step - loss: 30.4639 - mean_squared_logarithmic_error: 1.4509e-04 - val_loss: 27.5873 - val_mean_squared_logarithmic_error: 1.3105e-04\n",
            "Epoch 26/200\n",
            "192/192 [==============================] - 0s 2ms/step - loss: 28.7260 - mean_squared_logarithmic_error: 1.3678e-04 - val_loss: 26.5531 - val_mean_squared_logarithmic_error: 1.2631e-04\n",
            "Epoch 27/200\n",
            "192/192 [==============================] - 0s 2ms/step - loss: 29.0717 - mean_squared_logarithmic_error: 1.3851e-04 - val_loss: 30.3772 - val_mean_squared_logarithmic_error: 1.4531e-04\n",
            "Epoch 28/200\n",
            "192/192 [==============================] - 0s 2ms/step - loss: 29.1457 - mean_squared_logarithmic_error: 1.3885e-04 - val_loss: 29.5292 - val_mean_squared_logarithmic_error: 1.4037e-04\n",
            "Epoch 29/200\n",
            "192/192 [==============================] - 0s 1ms/step - loss: 29.0141 - mean_squared_logarithmic_error: 1.3813e-04 - val_loss: 25.8001 - val_mean_squared_logarithmic_error: 1.2284e-04\n",
            "Epoch 30/200\n",
            "192/192 [==============================] - 0s 2ms/step - loss: 29.4046 - mean_squared_logarithmic_error: 1.4012e-04 - val_loss: 25.9883 - val_mean_squared_logarithmic_error: 1.2362e-04\n",
            "Epoch 31/200\n",
            "192/192 [==============================] - 0s 2ms/step - loss: 27.4012 - mean_squared_logarithmic_error: 1.3051e-04 - val_loss: 27.0680 - val_mean_squared_logarithmic_error: 1.2931e-04\n",
            "Epoch 32/200\n",
            "192/192 [==============================] - 0s 2ms/step - loss: 28.7297 - mean_squared_logarithmic_error: 1.3696e-04 - val_loss: 25.3166 - val_mean_squared_logarithmic_error: 1.2063e-04\n",
            "Epoch 33/200\n",
            "192/192 [==============================] - 0s 2ms/step - loss: 27.7576 - mean_squared_logarithmic_error: 1.3230e-04 - val_loss: 25.2594 - val_mean_squared_logarithmic_error: 1.2033e-04\n",
            "Epoch 34/200\n",
            "192/192 [==============================] - 0s 2ms/step - loss: 27.2352 - mean_squared_logarithmic_error: 1.2991e-04 - val_loss: 25.8321 - val_mean_squared_logarithmic_error: 1.2293e-04\n",
            "Epoch 35/200\n",
            "192/192 [==============================] - 0s 2ms/step - loss: 26.9382 - mean_squared_logarithmic_error: 1.2838e-04 - val_loss: 25.7134 - val_mean_squared_logarithmic_error: 1.2280e-04\n",
            "Epoch 36/200\n",
            "192/192 [==============================] - 0s 2ms/step - loss: 28.4457 - mean_squared_logarithmic_error: 1.3576e-04 - val_loss: 24.8312 - val_mean_squared_logarithmic_error: 1.1842e-04\n",
            "Epoch 37/200\n",
            "192/192 [==============================] - 0s 2ms/step - loss: 28.5866 - mean_squared_logarithmic_error: 1.3645e-04 - val_loss: 27.8107 - val_mean_squared_logarithmic_error: 1.3254e-04\n",
            "Epoch 38/200\n",
            "192/192 [==============================] - 0s 2ms/step - loss: 29.1911 - mean_squared_logarithmic_error: 1.3933e-04 - val_loss: 25.3635 - val_mean_squared_logarithmic_error: 1.2094e-04\n",
            "Epoch 39/200\n",
            "192/192 [==============================] - 1s 3ms/step - loss: 28.0102 - mean_squared_logarithmic_error: 1.3361e-04 - val_loss: 26.4343 - val_mean_squared_logarithmic_error: 1.2596e-04\n",
            "Epoch 40/200\n",
            "192/192 [==============================] - 0s 2ms/step - loss: 27.5671 - mean_squared_logarithmic_error: 1.3160e-04 - val_loss: 31.0902 - val_mean_squared_logarithmic_error: 1.4845e-04\n",
            "Epoch 41/200\n",
            "192/192 [==============================] - 1s 3ms/step - loss: 28.4262 - mean_squared_logarithmic_error: 1.3565e-04 - val_loss: 30.9851 - val_mean_squared_logarithmic_error: 1.4797e-04\n",
            "Epoch 42/200\n",
            "192/192 [==============================] - 0s 2ms/step - loss: 28.3327 - mean_squared_logarithmic_error: 1.3520e-04 - val_loss: 28.1122 - val_mean_squared_logarithmic_error: 1.3463e-04\n",
            "Epoch 43/200\n",
            "192/192 [==============================] - 1s 3ms/step - loss: 26.5515 - mean_squared_logarithmic_error: 1.2684e-04 - val_loss: 24.5498 - val_mean_squared_logarithmic_error: 1.1719e-04\n",
            "Epoch 44/200\n",
            "192/192 [==============================] - 0s 2ms/step - loss: 27.6597 - mean_squared_logarithmic_error: 1.3211e-04 - val_loss: 26.7909 - val_mean_squared_logarithmic_error: 1.2786e-04\n",
            "Epoch 45/200\n",
            "192/192 [==============================] - 0s 2ms/step - loss: 26.8316 - mean_squared_logarithmic_error: 1.2815e-04 - val_loss: 31.0504 - val_mean_squared_logarithmic_error: 1.4892e-04\n",
            "Epoch 46/200\n",
            "192/192 [==============================] - 0s 2ms/step - loss: 26.9207 - mean_squared_logarithmic_error: 1.2865e-04 - val_loss: 24.5282 - val_mean_squared_logarithmic_error: 1.1707e-04\n",
            "Epoch 47/200\n",
            "192/192 [==============================] - 0s 2ms/step - loss: 27.3671 - mean_squared_logarithmic_error: 1.3066e-04 - val_loss: 26.4651 - val_mean_squared_logarithmic_error: 1.2669e-04\n",
            "Epoch 48/200\n",
            "192/192 [==============================] - 0s 2ms/step - loss: 27.8431 - mean_squared_logarithmic_error: 1.3322e-04 - val_loss: 24.4138 - val_mean_squared_logarithmic_error: 1.1658e-04\n",
            "Epoch 49/200\n",
            "192/192 [==============================] - 0s 2ms/step - loss: 27.9845 - mean_squared_logarithmic_error: 1.3362e-04 - val_loss: 24.7750 - val_mean_squared_logarithmic_error: 1.1843e-04\n",
            "Epoch 50/200\n",
            "192/192 [==============================] - 0s 2ms/step - loss: 27.8058 - mean_squared_logarithmic_error: 1.3287e-04 - val_loss: 24.5330 - val_mean_squared_logarithmic_error: 1.1716e-04\n",
            "Epoch 51/200\n",
            "192/192 [==============================] - 0s 2ms/step - loss: 29.0078 - mean_squared_logarithmic_error: 1.3878e-04 - val_loss: 36.0172 - val_mean_squared_logarithmic_error: 1.7256e-04\n",
            "Epoch 52/200\n",
            "192/192 [==============================] - 0s 2ms/step - loss: 27.3026 - mean_squared_logarithmic_error: 1.3038e-04 - val_loss: 25.1727 - val_mean_squared_logarithmic_error: 1.2014e-04\n",
            "Epoch 53/200\n",
            "192/192 [==============================] - 0s 2ms/step - loss: 27.7653 - mean_squared_logarithmic_error: 1.3281e-04 - val_loss: 25.0082 - val_mean_squared_logarithmic_error: 1.1937e-04\n",
            "Epoch 54/200\n",
            "192/192 [==============================] - 0s 2ms/step - loss: 29.6378 - mean_squared_logarithmic_error: 1.4179e-04 - val_loss: 30.7790 - val_mean_squared_logarithmic_error: 1.4719e-04\n",
            "Epoch 55/200\n",
            "192/192 [==============================] - 0s 1ms/step - loss: 27.7561 - mean_squared_logarithmic_error: 1.3256e-04 - val_loss: 24.5777 - val_mean_squared_logarithmic_error: 1.1748e-04\n",
            "Epoch 56/200\n",
            "192/192 [==============================] - 0s 2ms/step - loss: 28.2227 - mean_squared_logarithmic_error: 1.3489e-04 - val_loss: 24.4168 - val_mean_squared_logarithmic_error: 1.1663e-04\n",
            "Epoch 57/200\n",
            "192/192 [==============================] - 0s 2ms/step - loss: 27.4793 - mean_squared_logarithmic_error: 1.3137e-04 - val_loss: 24.4037 - val_mean_squared_logarithmic_error: 1.1657e-04\n",
            "Epoch 58/200\n",
            "192/192 [==============================] - 0s 2ms/step - loss: 28.1764 - mean_squared_logarithmic_error: 1.3463e-04 - val_loss: 30.5120 - val_mean_squared_logarithmic_error: 1.4634e-04\n",
            "Epoch 59/200\n",
            "192/192 [==============================] - 0s 2ms/step - loss: 28.0555 - mean_squared_logarithmic_error: 1.3402e-04 - val_loss: 24.7945 - val_mean_squared_logarithmic_error: 1.1843e-04\n",
            "Epoch 60/200\n",
            "192/192 [==============================] - 0s 2ms/step - loss: 26.7470 - mean_squared_logarithmic_error: 1.2783e-04 - val_loss: 27.1467 - val_mean_squared_logarithmic_error: 1.2961e-04\n",
            "Epoch 61/200\n",
            "192/192 [==============================] - 0s 2ms/step - loss: 27.9816 - mean_squared_logarithmic_error: 1.3377e-04 - val_loss: 25.4381 - val_mean_squared_logarithmic_error: 1.2174e-04\n",
            "Epoch 62/200\n",
            "192/192 [==============================] - 0s 2ms/step - loss: 27.1064 - mean_squared_logarithmic_error: 1.2958e-04 - val_loss: 24.3518 - val_mean_squared_logarithmic_error: 1.1636e-04\n",
            "Epoch 63/200\n",
            "192/192 [==============================] - 0s 2ms/step - loss: 27.0867 - mean_squared_logarithmic_error: 1.2953e-04 - val_loss: 27.4071 - val_mean_squared_logarithmic_error: 1.3132e-04\n",
            "Epoch 64/200\n",
            "192/192 [==============================] - 0s 1ms/step - loss: 27.6108 - mean_squared_logarithmic_error: 1.3197e-04 - val_loss: 24.4867 - val_mean_squared_logarithmic_error: 1.1707e-04\n",
            "Epoch 65/200\n",
            "192/192 [==============================] - 0s 2ms/step - loss: 27.1689 - mean_squared_logarithmic_error: 1.2978e-04 - val_loss: 24.3698 - val_mean_squared_logarithmic_error: 1.1644e-04\n",
            "Epoch 66/200\n",
            "192/192 [==============================] - 0s 2ms/step - loss: 27.1892 - mean_squared_logarithmic_error: 1.2989e-04 - val_loss: 24.5601 - val_mean_squared_logarithmic_error: 1.1743e-04\n",
            "Epoch 67/200\n",
            "192/192 [==============================] - 0s 2ms/step - loss: 29.2458 - mean_squared_logarithmic_error: 1.3986e-04 - val_loss: 24.5133 - val_mean_squared_logarithmic_error: 1.1702e-04\n",
            "Epoch 68/200\n",
            "192/192 [==============================] - 0s 2ms/step - loss: 27.6411 - mean_squared_logarithmic_error: 1.3209e-04 - val_loss: 25.0556 - val_mean_squared_logarithmic_error: 1.1967e-04\n",
            "Epoch 69/200\n",
            "192/192 [==============================] - 0s 2ms/step - loss: 27.2476 - mean_squared_logarithmic_error: 1.3037e-04 - val_loss: 24.3544 - val_mean_squared_logarithmic_error: 1.1637e-04\n",
            "Epoch 70/200\n",
            "192/192 [==============================] - 0s 2ms/step - loss: 28.0954 - mean_squared_logarithmic_error: 1.3441e-04 - val_loss: 24.4197 - val_mean_squared_logarithmic_error: 1.1671e-04\n",
            "Epoch 71/200\n",
            "192/192 [==============================] - 0s 2ms/step - loss: 27.2302 - mean_squared_logarithmic_error: 1.3010e-04 - val_loss: 25.2776 - val_mean_squared_logarithmic_error: 1.2096e-04\n",
            "Epoch 72/200\n",
            "192/192 [==============================] - 0s 2ms/step - loss: 27.6124 - mean_squared_logarithmic_error: 1.3189e-04 - val_loss: 25.2504 - val_mean_squared_logarithmic_error: 1.2084e-04\n",
            "Epoch 73/200\n",
            "192/192 [==============================] - 0s 2ms/step - loss: 27.7006 - mean_squared_logarithmic_error: 1.3244e-04 - val_loss: 29.3818 - val_mean_squared_logarithmic_error: 1.4051e-04\n",
            "Epoch 74/200\n",
            "192/192 [==============================] - 1s 3ms/step - loss: 28.2373 - mean_squared_logarithmic_error: 1.3494e-04 - val_loss: 24.3796 - val_mean_squared_logarithmic_error: 1.1651e-04\n",
            "Epoch 75/200\n",
            "192/192 [==============================] - 0s 2ms/step - loss: 27.9136 - mean_squared_logarithmic_error: 1.3346e-04 - val_loss: 24.7429 - val_mean_squared_logarithmic_error: 1.1835e-04\n",
            "Epoch 76/200\n",
            "192/192 [==============================] - 1s 3ms/step - loss: 27.0068 - mean_squared_logarithmic_error: 1.2908e-04 - val_loss: 26.5589 - val_mean_squared_logarithmic_error: 1.2689e-04\n",
            "Epoch 77/200\n",
            "192/192 [==============================] - 0s 2ms/step - loss: 27.7494 - mean_squared_logarithmic_error: 1.3278e-04 - val_loss: 29.0337 - val_mean_squared_logarithmic_error: 1.3920e-04\n",
            "Epoch 78/200\n",
            "192/192 [==============================] - 0s 2ms/step - loss: 26.9820 - mean_squared_logarithmic_error: 1.2890e-04 - val_loss: 24.3813 - val_mean_squared_logarithmic_error: 1.1654e-04\n",
            "Epoch 79/200\n",
            "192/192 [==============================] - 0s 2ms/step - loss: 27.7139 - mean_squared_logarithmic_error: 1.3255e-04 - val_loss: 38.5661 - val_mean_squared_logarithmic_error: 1.8513e-04\n",
            "Epoch 80/200\n",
            "192/192 [==============================] - 0s 2ms/step - loss: 27.6199 - mean_squared_logarithmic_error: 1.3202e-04 - val_loss: 25.4675 - val_mean_squared_logarithmic_error: 1.2159e-04\n",
            "Epoch 81/200\n",
            "192/192 [==============================] - 0s 2ms/step - loss: 27.7122 - mean_squared_logarithmic_error: 1.3239e-04 - val_loss: 25.7645 - val_mean_squared_logarithmic_error: 1.2311e-04\n",
            "Epoch 82/200\n",
            "192/192 [==============================] - 0s 2ms/step - loss: 26.8278 - mean_squared_logarithmic_error: 1.2816e-04 - val_loss: 29.5317 - val_mean_squared_logarithmic_error: 1.4163e-04\n",
            "Epoch 83/200\n",
            "192/192 [==============================] - 0s 2ms/step - loss: 27.8354 - mean_squared_logarithmic_error: 1.3303e-04 - val_loss: 29.0947 - val_mean_squared_logarithmic_error: 1.3897e-04\n",
            "Epoch 84/200\n",
            "192/192 [==============================] - 0s 2ms/step - loss: 28.8058 - mean_squared_logarithmic_error: 1.3756e-04 - val_loss: 25.1871 - val_mean_squared_logarithmic_error: 1.2035e-04\n",
            "Epoch 85/200\n",
            "192/192 [==============================] - 0s 2ms/step - loss: 27.4281 - mean_squared_logarithmic_error: 1.3107e-04 - val_loss: 25.0477 - val_mean_squared_logarithmic_error: 1.1985e-04\n",
            "Epoch 86/200\n",
            "192/192 [==============================] - 0s 2ms/step - loss: 27.1951 - mean_squared_logarithmic_error: 1.2989e-04 - val_loss: 25.1875 - val_mean_squared_logarithmic_error: 1.2028e-04\n",
            "Epoch 87/200\n",
            "192/192 [==============================] - 0s 2ms/step - loss: 27.3522 - mean_squared_logarithmic_error: 1.3075e-04 - val_loss: 24.5266 - val_mean_squared_logarithmic_error: 1.1727e-04\n",
            "Epoch 88/200\n",
            "192/192 [==============================] - 0s 2ms/step - loss: 26.8242 - mean_squared_logarithmic_error: 1.2806e-04 - val_loss: 26.0735 - val_mean_squared_logarithmic_error: 1.2450e-04\n",
            "Epoch 89/200\n",
            "192/192 [==============================] - 0s 2ms/step - loss: 27.5474 - mean_squared_logarithmic_error: 1.3181e-04 - val_loss: 24.6597 - val_mean_squared_logarithmic_error: 1.1777e-04\n",
            "Epoch 90/200\n",
            "192/192 [==============================] - 0s 2ms/step - loss: 26.6850 - mean_squared_logarithmic_error: 1.2756e-04 - val_loss: 24.7567 - val_mean_squared_logarithmic_error: 1.1842e-04\n",
            "Epoch 91/200\n",
            "192/192 [==============================] - 0s 2ms/step - loss: 27.0924 - mean_squared_logarithmic_error: 1.2946e-04 - val_loss: 25.9860 - val_mean_squared_logarithmic_error: 1.2422e-04\n",
            "Epoch 92/200\n",
            "192/192 [==============================] - 0s 2ms/step - loss: 29.4190 - mean_squared_logarithmic_error: 1.4065e-04 - val_loss: 24.4491 - val_mean_squared_logarithmic_error: 1.1676e-04\n",
            "Epoch 93/200\n",
            "192/192 [==============================] - 0s 2ms/step - loss: 26.9211 - mean_squared_logarithmic_error: 1.2864e-04 - val_loss: 25.3987 - val_mean_squared_logarithmic_error: 1.2132e-04\n",
            "Epoch 94/200\n",
            "192/192 [==============================] - 0s 2ms/step - loss: 28.2052 - mean_squared_logarithmic_error: 1.3474e-04 - val_loss: 38.8603 - val_mean_squared_logarithmic_error: 1.8653e-04\n",
            "Epoch 95/200\n",
            "192/192 [==============================] - 0s 2ms/step - loss: 27.7440 - mean_squared_logarithmic_error: 1.3267e-04 - val_loss: 24.4639 - val_mean_squared_logarithmic_error: 1.1688e-04\n",
            "Epoch 96/200\n",
            "192/192 [==============================] - 0s 2ms/step - loss: 27.5127 - mean_squared_logarithmic_error: 1.3146e-04 - val_loss: 25.9555 - val_mean_squared_logarithmic_error: 1.2428e-04\n",
            "Epoch 97/200\n",
            "192/192 [==============================] - 0s 2ms/step - loss: 27.4928 - mean_squared_logarithmic_error: 1.3148e-04 - val_loss: 37.7380 - val_mean_squared_logarithmic_error: 1.8093e-04\n",
            "Epoch 98/200\n",
            "192/192 [==============================] - 0s 2ms/step - loss: 28.7631 - mean_squared_logarithmic_error: 1.3756e-04 - val_loss: 24.4714 - val_mean_squared_logarithmic_error: 1.1696e-04\n",
            "Epoch 99/200\n",
            "192/192 [==============================] - 0s 2ms/step - loss: 30.6953 - mean_squared_logarithmic_error: 1.4666e-04 - val_loss: 27.0268 - val_mean_squared_logarithmic_error: 1.2908e-04\n",
            "Epoch 100/200\n",
            "192/192 [==============================] - 0s 2ms/step - loss: 27.5591 - mean_squared_logarithmic_error: 1.3168e-04 - val_loss: 24.4334 - val_mean_squared_logarithmic_error: 1.1679e-04\n",
            "Epoch 101/200\n",
            "192/192 [==============================] - 0s 2ms/step - loss: 26.8527 - mean_squared_logarithmic_error: 1.2842e-04 - val_loss: 33.2242 - val_mean_squared_logarithmic_error: 1.5906e-04\n",
            "Epoch 102/200\n",
            "192/192 [==============================] - 0s 2ms/step - loss: 27.4009 - mean_squared_logarithmic_error: 1.3095e-04 - val_loss: 29.4104 - val_mean_squared_logarithmic_error: 1.4103e-04\n",
            "Epoch 103/200\n",
            "192/192 [==============================] - 0s 2ms/step - loss: 28.0157 - mean_squared_logarithmic_error: 1.3395e-04 - val_loss: 29.2026 - val_mean_squared_logarithmic_error: 1.3964e-04\n",
            "Epoch 104/200\n",
            "192/192 [==============================] - 0s 2ms/step - loss: 27.1822 - mean_squared_logarithmic_error: 1.3002e-04 - val_loss: 25.7387 - val_mean_squared_logarithmic_error: 1.2323e-04\n",
            "Epoch 105/200\n",
            "192/192 [==============================] - 0s 2ms/step - loss: 27.4853 - mean_squared_logarithmic_error: 1.3141e-04 - val_loss: 27.6496 - val_mean_squared_logarithmic_error: 1.3251e-04\n",
            "Epoch 106/200\n",
            "192/192 [==============================] - 0s 2ms/step - loss: 27.6561 - mean_squared_logarithmic_error: 1.3218e-04 - val_loss: 24.3876 - val_mean_squared_logarithmic_error: 1.1652e-04\n",
            "Epoch 107/200\n",
            "192/192 [==============================] - 0s 2ms/step - loss: 26.8803 - mean_squared_logarithmic_error: 1.2842e-04 - val_loss: 24.4902 - val_mean_squared_logarithmic_error: 1.1694e-04\n",
            "Epoch 108/200\n",
            "192/192 [==============================] - 0s 2ms/step - loss: 27.0389 - mean_squared_logarithmic_error: 1.2908e-04 - val_loss: 24.3447 - val_mean_squared_logarithmic_error: 1.1639e-04\n",
            "Epoch 109/200\n",
            "192/192 [==============================] - 0s 2ms/step - loss: 27.2136 - mean_squared_logarithmic_error: 1.3000e-04 - val_loss: 24.9132 - val_mean_squared_logarithmic_error: 1.1920e-04\n",
            "Epoch 110/200\n",
            "192/192 [==============================] - 1s 3ms/step - loss: 27.5689 - mean_squared_logarithmic_error: 1.3186e-04 - val_loss: 24.6715 - val_mean_squared_logarithmic_error: 1.1801e-04\n",
            "Epoch 111/200\n",
            "192/192 [==============================] - 0s 2ms/step - loss: 27.4398 - mean_squared_logarithmic_error: 1.3121e-04 - val_loss: 25.7600 - val_mean_squared_logarithmic_error: 1.2333e-04\n",
            "Epoch 112/200\n",
            "192/192 [==============================] - 0s 2ms/step - loss: 29.9406 - mean_squared_logarithmic_error: 1.4334e-04 - val_loss: 24.4270 - val_mean_squared_logarithmic_error: 1.1678e-04\n",
            "Epoch 113/200\n",
            "192/192 [==============================] - 0s 2ms/step - loss: 26.7802 - mean_squared_logarithmic_error: 1.2808e-04 - val_loss: 25.6796 - val_mean_squared_logarithmic_error: 1.2269e-04\n",
            "Epoch 114/200\n",
            "192/192 [==============================] - 0s 2ms/step - loss: 28.1964 - mean_squared_logarithmic_error: 1.3458e-04 - val_loss: 24.3428 - val_mean_squared_logarithmic_error: 1.1633e-04\n",
            "Epoch 115/200\n",
            "192/192 [==============================] - 0s 2ms/step - loss: 27.3371 - mean_squared_logarithmic_error: 1.3066e-04 - val_loss: 25.1344 - val_mean_squared_logarithmic_error: 1.2008e-04\n",
            "Epoch 116/200\n",
            "192/192 [==============================] - 0s 2ms/step - loss: 28.5548 - mean_squared_logarithmic_error: 1.3678e-04 - val_loss: 24.3742 - val_mean_squared_logarithmic_error: 1.1654e-04\n",
            "Epoch 117/200\n",
            "192/192 [==============================] - 0s 2ms/step - loss: 26.9061 - mean_squared_logarithmic_error: 1.2872e-04 - val_loss: 37.9079 - val_mean_squared_logarithmic_error: 1.8187e-04\n",
            "Epoch 118/200\n",
            "192/192 [==============================] - 0s 2ms/step - loss: 27.3046 - mean_squared_logarithmic_error: 1.3063e-04 - val_loss: 27.1408 - val_mean_squared_logarithmic_error: 1.2968e-04\n",
            "Epoch 119/200\n",
            "192/192 [==============================] - 0s 2ms/step - loss: 26.9860 - mean_squared_logarithmic_error: 1.2897e-04 - val_loss: 26.5460 - val_mean_squared_logarithmic_error: 1.2675e-04\n",
            "Epoch 120/200\n",
            "192/192 [==============================] - 0s 2ms/step - loss: 27.5333 - mean_squared_logarithmic_error: 1.3175e-04 - val_loss: 29.3411 - val_mean_squared_logarithmic_error: 1.4039e-04\n",
            "Epoch 121/200\n",
            "192/192 [==============================] - 0s 2ms/step - loss: 27.8709 - mean_squared_logarithmic_error: 1.3320e-04 - val_loss: 35.5414 - val_mean_squared_logarithmic_error: 1.7061e-04\n",
            "Epoch 122/200\n",
            "192/192 [==============================] - 0s 2ms/step - loss: 29.4428 - mean_squared_logarithmic_error: 1.4072e-04 - val_loss: 25.8244 - val_mean_squared_logarithmic_error: 1.2364e-04\n",
            "Epoch 123/200\n",
            "192/192 [==============================] - 0s 2ms/step - loss: 27.7276 - mean_squared_logarithmic_error: 1.3266e-04 - val_loss: 24.6871 - val_mean_squared_logarithmic_error: 1.1808e-04\n",
            "Epoch 124/200\n",
            "192/192 [==============================] - 0s 2ms/step - loss: 27.1326 - mean_squared_logarithmic_error: 1.2978e-04 - val_loss: 25.0503 - val_mean_squared_logarithmic_error: 1.1987e-04\n",
            "Epoch 125/200\n",
            "192/192 [==============================] - 0s 2ms/step - loss: 27.0208 - mean_squared_logarithmic_error: 1.2916e-04 - val_loss: 26.9466 - val_mean_squared_logarithmic_error: 1.2910e-04\n",
            "Epoch 126/200\n",
            "192/192 [==============================] - 0s 2ms/step - loss: 27.3049 - mean_squared_logarithmic_error: 1.3051e-04 - val_loss: 24.5339 - val_mean_squared_logarithmic_error: 1.1719e-04\n",
            "Epoch 127/200\n",
            "192/192 [==============================] - 0s 2ms/step - loss: 28.7218 - mean_squared_logarithmic_error: 1.3733e-04 - val_loss: 28.9181 - val_mean_squared_logarithmic_error: 1.3814e-04\n",
            "Epoch 128/200\n",
            "192/192 [==============================] - 0s 2ms/step - loss: 27.9394 - mean_squared_logarithmic_error: 1.3357e-04 - val_loss: 25.3456 - val_mean_squared_logarithmic_error: 1.2132e-04\n",
            "Epoch 129/200\n",
            "192/192 [==============================] - 0s 2ms/step - loss: 28.2460 - mean_squared_logarithmic_error: 1.3497e-04 - val_loss: 25.4657 - val_mean_squared_logarithmic_error: 1.2159e-04\n",
            "Epoch 130/200\n",
            "192/192 [==============================] - 0s 2ms/step - loss: 27.1791 - mean_squared_logarithmic_error: 1.2989e-04 - val_loss: 24.6030 - val_mean_squared_logarithmic_error: 1.1751e-04\n",
            "Epoch 131/200\n",
            "192/192 [==============================] - 0s 2ms/step - loss: 27.3017 - mean_squared_logarithmic_error: 1.3059e-04 - val_loss: 24.3799 - val_mean_squared_logarithmic_error: 1.1649e-04\n",
            "Epoch 132/200\n",
            "192/192 [==============================] - 0s 2ms/step - loss: 26.8442 - mean_squared_logarithmic_error: 1.2838e-04 - val_loss: 25.8736 - val_mean_squared_logarithmic_error: 1.2389e-04\n",
            "Epoch 133/200\n",
            "192/192 [==============================] - 0s 2ms/step - loss: 28.0580 - mean_squared_logarithmic_error: 1.3405e-04 - val_loss: 25.1204 - val_mean_squared_logarithmic_error: 1.2021e-04\n",
            "Epoch 134/200\n",
            "192/192 [==============================] - 0s 2ms/step - loss: 27.6632 - mean_squared_logarithmic_error: 1.3214e-04 - val_loss: 29.4961 - val_mean_squared_logarithmic_error: 1.4120e-04\n",
            "Epoch 135/200\n",
            "192/192 [==============================] - 0s 2ms/step - loss: 28.0157 - mean_squared_logarithmic_error: 1.3386e-04 - val_loss: 29.8298 - val_mean_squared_logarithmic_error: 1.4270e-04\n",
            "Epoch 136/200\n",
            "192/192 [==============================] - 0s 2ms/step - loss: 27.7139 - mean_squared_logarithmic_error: 1.3242e-04 - val_loss: 40.1469 - val_mean_squared_logarithmic_error: 1.9253e-04\n",
            "Epoch 137/200\n",
            "192/192 [==============================] - 0s 2ms/step - loss: 28.3572 - mean_squared_logarithmic_error: 1.3579e-04 - val_loss: 24.4024 - val_mean_squared_logarithmic_error: 1.1662e-04\n",
            "Epoch 138/200\n",
            "192/192 [==============================] - 0s 2ms/step - loss: 26.9979 - mean_squared_logarithmic_error: 1.2901e-04 - val_loss: 24.3622 - val_mean_squared_logarithmic_error: 1.1643e-04\n",
            "Epoch 139/200\n",
            "192/192 [==============================] - 0s 2ms/step - loss: 28.7939 - mean_squared_logarithmic_error: 1.3772e-04 - val_loss: 37.0057 - val_mean_squared_logarithmic_error: 1.7752e-04\n",
            "Epoch 140/200\n",
            "192/192 [==============================] - 0s 2ms/step - loss: 27.9894 - mean_squared_logarithmic_error: 1.3376e-04 - val_loss: 25.0704 - val_mean_squared_logarithmic_error: 1.1974e-04\n",
            "Epoch 141/200\n",
            "192/192 [==============================] - 0s 3ms/step - loss: 28.0049 - mean_squared_logarithmic_error: 1.3387e-04 - val_loss: 26.4986 - val_mean_squared_logarithmic_error: 1.2692e-04\n",
            "Epoch 142/200\n",
            "192/192 [==============================] - 0s 2ms/step - loss: 29.6094 - mean_squared_logarithmic_error: 1.4157e-04 - val_loss: 24.8494 - val_mean_squared_logarithmic_error: 1.1871e-04\n",
            "Epoch 143/200\n",
            "192/192 [==============================] - 1s 3ms/step - loss: 28.0048 - mean_squared_logarithmic_error: 1.3378e-04 - val_loss: 24.3714 - val_mean_squared_logarithmic_error: 1.1645e-04\n",
            "Epoch 144/200\n",
            "192/192 [==============================] - 1s 3ms/step - loss: 28.4778 - mean_squared_logarithmic_error: 1.3619e-04 - val_loss: 28.1332 - val_mean_squared_logarithmic_error: 1.3490e-04\n",
            "Epoch 145/200\n",
            "192/192 [==============================] - 0s 2ms/step - loss: 26.6523 - mean_squared_logarithmic_error: 1.2735e-04 - val_loss: 28.8555 - val_mean_squared_logarithmic_error: 1.3837e-04\n",
            "Epoch 146/200\n",
            "192/192 [==============================] - 0s 2ms/step - loss: 27.5970 - mean_squared_logarithmic_error: 1.3191e-04 - val_loss: 25.4772 - val_mean_squared_logarithmic_error: 1.2195e-04\n",
            "Epoch 147/200\n",
            "192/192 [==============================] - 0s 2ms/step - loss: 27.4289 - mean_squared_logarithmic_error: 1.3115e-04 - val_loss: 28.1281 - val_mean_squared_logarithmic_error: 1.3483e-04\n",
            "Epoch 148/200\n",
            "192/192 [==============================] - 0s 2ms/step - loss: 27.5377 - mean_squared_logarithmic_error: 1.3175e-04 - val_loss: 24.6880 - val_mean_squared_logarithmic_error: 1.1809e-04\n",
            "Epoch 149/200\n",
            "192/192 [==============================] - 0s 2ms/step - loss: 27.4982 - mean_squared_logarithmic_error: 1.3155e-04 - val_loss: 24.9422 - val_mean_squared_logarithmic_error: 1.1934e-04\n",
            "Epoch 150/200\n",
            "192/192 [==============================] - 0s 2ms/step - loss: 27.8072 - mean_squared_logarithmic_error: 1.3289e-04 - val_loss: 26.2121 - val_mean_squared_logarithmic_error: 1.2554e-04\n",
            "Epoch 151/200\n",
            "192/192 [==============================] - 0s 2ms/step - loss: 27.6133 - mean_squared_logarithmic_error: 1.3202e-04 - val_loss: 26.1968 - val_mean_squared_logarithmic_error: 1.2547e-04\n",
            "Epoch 152/200\n",
            "192/192 [==============================] - 0s 2ms/step - loss: 26.3640 - mean_squared_logarithmic_error: 1.2599e-04 - val_loss: 29.7284 - val_mean_squared_logarithmic_error: 1.4216e-04\n",
            "Epoch 153/200\n",
            "192/192 [==============================] - 0s 2ms/step - loss: 28.5231 - mean_squared_logarithmic_error: 1.3630e-04 - val_loss: 32.3707 - val_mean_squared_logarithmic_error: 1.5524e-04\n",
            "Epoch 154/200\n",
            "192/192 [==============================] - 0s 2ms/step - loss: 27.5594 - mean_squared_logarithmic_error: 1.3179e-04 - val_loss: 25.0658 - val_mean_squared_logarithmic_error: 1.1970e-04\n",
            "Epoch 155/200\n",
            "192/192 [==============================] - 0s 2ms/step - loss: 27.1876 - mean_squared_logarithmic_error: 1.2999e-04 - val_loss: 25.8049 - val_mean_squared_logarithmic_error: 1.2321e-04\n",
            "Epoch 156/200\n",
            "192/192 [==============================] - 0s 2ms/step - loss: 27.5172 - mean_squared_logarithmic_error: 1.3153e-04 - val_loss: 24.8306 - val_mean_squared_logarithmic_error: 1.1861e-04\n",
            "Epoch 157/200\n",
            "192/192 [==============================] - 0s 2ms/step - loss: 27.9764 - mean_squared_logarithmic_error: 1.3374e-04 - val_loss: 32.4796 - val_mean_squared_logarithmic_error: 1.5555e-04\n",
            "Epoch 158/200\n",
            "192/192 [==============================] - 0s 2ms/step - loss: 27.2592 - mean_squared_logarithmic_error: 1.3030e-04 - val_loss: 25.1261 - val_mean_squared_logarithmic_error: 1.2002e-04\n",
            "Epoch 159/200\n",
            "192/192 [==============================] - 0s 2ms/step - loss: 27.5748 - mean_squared_logarithmic_error: 1.3185e-04 - val_loss: 25.2462 - val_mean_squared_logarithmic_error: 1.2084e-04\n",
            "Epoch 160/200\n",
            "192/192 [==============================] - 0s 2ms/step - loss: 27.2713 - mean_squared_logarithmic_error: 1.3034e-04 - val_loss: 24.4322 - val_mean_squared_logarithmic_error: 1.1673e-04\n",
            "Epoch 161/200\n",
            "192/192 [==============================] - 0s 2ms/step - loss: 27.1451 - mean_squared_logarithmic_error: 1.2969e-04 - val_loss: 34.4202 - val_mean_squared_logarithmic_error: 1.6491e-04\n",
            "Epoch 162/200\n",
            "192/192 [==============================] - 0s 2ms/step - loss: 26.8453 - mean_squared_logarithmic_error: 1.2840e-04 - val_loss: 27.0871 - val_mean_squared_logarithmic_error: 1.2980e-04\n",
            "Epoch 163/200\n",
            "192/192 [==============================] - 0s 2ms/step - loss: 27.0384 - mean_squared_logarithmic_error: 1.2905e-04 - val_loss: 24.3369 - val_mean_squared_logarithmic_error: 1.1632e-04\n",
            "Epoch 164/200\n",
            "192/192 [==============================] - 0s 2ms/step - loss: 26.5177 - mean_squared_logarithmic_error: 1.2675e-04 - val_loss: 25.1168 - val_mean_squared_logarithmic_error: 1.1996e-04\n",
            "Epoch 165/200\n",
            "192/192 [==============================] - 0s 2ms/step - loss: 28.2578 - mean_squared_logarithmic_error: 1.3515e-04 - val_loss: 24.3334 - val_mean_squared_logarithmic_error: 1.1630e-04\n",
            "Epoch 166/200\n",
            "192/192 [==============================] - 0s 2ms/step - loss: 27.9340 - mean_squared_logarithmic_error: 1.3343e-04 - val_loss: 24.3775 - val_mean_squared_logarithmic_error: 1.1647e-04\n",
            "Epoch 167/200\n",
            "192/192 [==============================] - 0s 2ms/step - loss: 27.8215 - mean_squared_logarithmic_error: 1.3288e-04 - val_loss: 27.2522 - val_mean_squared_logarithmic_error: 1.3021e-04\n",
            "Epoch 168/200\n",
            "192/192 [==============================] - 0s 2ms/step - loss: 26.7155 - mean_squared_logarithmic_error: 1.2768e-04 - val_loss: 38.7379 - val_mean_squared_logarithmic_error: 1.8584e-04\n",
            "Epoch 169/200\n",
            "192/192 [==============================] - 0s 2ms/step - loss: 29.0528 - mean_squared_logarithmic_error: 1.3889e-04 - val_loss: 31.6316 - val_mean_squared_logarithmic_error: 1.5139e-04\n",
            "Epoch 170/200\n",
            "192/192 [==============================] - 0s 2ms/step - loss: 27.6557 - mean_squared_logarithmic_error: 1.3221e-04 - val_loss: 26.2201 - val_mean_squared_logarithmic_error: 1.2523e-04\n",
            "Epoch 171/200\n",
            "192/192 [==============================] - 0s 2ms/step - loss: 26.5579 - mean_squared_logarithmic_error: 1.2699e-04 - val_loss: 25.5257 - val_mean_squared_logarithmic_error: 1.2219e-04\n",
            "Epoch 172/200\n",
            "192/192 [==============================] - 0s 2ms/step - loss: 28.7846 - mean_squared_logarithmic_error: 1.3767e-04 - val_loss: 24.3380 - val_mean_squared_logarithmic_error: 1.1636e-04\n",
            "Epoch 173/200\n",
            "192/192 [==============================] - 0s 2ms/step - loss: 28.7229 - mean_squared_logarithmic_error: 1.3718e-04 - val_loss: 24.5334 - val_mean_squared_logarithmic_error: 1.1721e-04\n",
            "Epoch 174/200\n",
            "192/192 [==============================] - 0s 2ms/step - loss: 28.3727 - mean_squared_logarithmic_error: 1.3558e-04 - val_loss: 27.4627 - val_mean_squared_logarithmic_error: 1.3162e-04\n",
            "Epoch 175/200\n",
            "192/192 [==============================] - 0s 2ms/step - loss: 26.9870 - mean_squared_logarithmic_error: 1.2886e-04 - val_loss: 24.4159 - val_mean_squared_logarithmic_error: 1.1669e-04\n",
            "Epoch 176/200\n",
            "192/192 [==============================] - 0s 2ms/step - loss: 27.1506 - mean_squared_logarithmic_error: 1.2973e-04 - val_loss: 28.9301 - val_mean_squared_logarithmic_error: 1.3871e-04\n",
            "Epoch 177/200\n",
            "192/192 [==============================] - 0s 2ms/step - loss: 26.9377 - mean_squared_logarithmic_error: 1.2866e-04 - val_loss: 24.7701 - val_mean_squared_logarithmic_error: 1.1834e-04\n",
            "Epoch 178/200\n",
            "192/192 [==============================] - 0s 2ms/step - loss: 26.9813 - mean_squared_logarithmic_error: 1.2898e-04 - val_loss: 25.3107 - val_mean_squared_logarithmic_error: 1.2115e-04\n",
            "Epoch 179/200\n",
            "192/192 [==============================] - 0s 2ms/step - loss: 30.5130 - mean_squared_logarithmic_error: 1.4611e-04 - val_loss: 24.3427 - val_mean_squared_logarithmic_error: 1.1631e-04\n",
            "Epoch 180/200\n",
            "192/192 [==============================] - 0s 2ms/step - loss: 27.1455 - mean_squared_logarithmic_error: 1.2961e-04 - val_loss: 24.4875 - val_mean_squared_logarithmic_error: 1.1707e-04\n",
            "Epoch 181/200\n",
            "192/192 [==============================] - 0s 2ms/step - loss: 26.6333 - mean_squared_logarithmic_error: 1.2733e-04 - val_loss: 24.4143 - val_mean_squared_logarithmic_error: 1.1664e-04\n",
            "Epoch 182/200\n",
            "192/192 [==============================] - 0s 2ms/step - loss: 27.7489 - mean_squared_logarithmic_error: 1.3252e-04 - val_loss: 28.1451 - val_mean_squared_logarithmic_error: 1.3491e-04\n",
            "Epoch 183/200\n",
            "192/192 [==============================] - 0s 2ms/step - loss: 27.8179 - mean_squared_logarithmic_error: 1.3294e-04 - val_loss: 30.3425 - val_mean_squared_logarithmic_error: 1.4554e-04\n",
            "Epoch 184/200\n",
            "192/192 [==============================] - 0s 2ms/step - loss: 27.7063 - mean_squared_logarithmic_error: 1.3242e-04 - val_loss: 25.3791 - val_mean_squared_logarithmic_error: 1.2128e-04\n",
            "Epoch 185/200\n",
            "192/192 [==============================] - 0s 2ms/step - loss: 26.8418 - mean_squared_logarithmic_error: 1.2828e-04 - val_loss: 25.2504 - val_mean_squared_logarithmic_error: 1.2064e-04\n",
            "Epoch 186/200\n",
            "192/192 [==============================] - 0s 2ms/step - loss: 26.4949 - mean_squared_logarithmic_error: 1.2663e-04 - val_loss: 26.5588 - val_mean_squared_logarithmic_error: 1.2688e-04\n",
            "Epoch 187/200\n",
            "192/192 [==============================] - 0s 1ms/step - loss: 26.9429 - mean_squared_logarithmic_error: 1.2885e-04 - val_loss: 24.7235 - val_mean_squared_logarithmic_error: 1.1808e-04\n",
            "Epoch 188/200\n",
            "192/192 [==============================] - 0s 2ms/step - loss: 27.6400 - mean_squared_logarithmic_error: 1.3206e-04 - val_loss: 32.3925 - val_mean_squared_logarithmic_error: 1.5507e-04\n",
            "Epoch 189/200\n",
            "192/192 [==============================] - 0s 2ms/step - loss: 28.4806 - mean_squared_logarithmic_error: 1.3610e-04 - val_loss: 24.8610 - val_mean_squared_logarithmic_error: 1.1895e-04\n",
            "Epoch 190/200\n",
            "192/192 [==============================] - 0s 2ms/step - loss: 27.2421 - mean_squared_logarithmic_error: 1.3017e-04 - val_loss: 29.7766 - val_mean_squared_logarithmic_error: 1.4282e-04\n",
            "Epoch 191/200\n",
            "192/192 [==============================] - 0s 2ms/step - loss: 29.1585 - mean_squared_logarithmic_error: 1.3947e-04 - val_loss: 24.3448 - val_mean_squared_logarithmic_error: 1.1634e-04\n",
            "Epoch 192/200\n",
            "192/192 [==============================] - 0s 2ms/step - loss: 27.5718 - mean_squared_logarithmic_error: 1.3184e-04 - val_loss: 26.8430 - val_mean_squared_logarithmic_error: 1.2860e-04\n",
            "Epoch 193/200\n",
            "192/192 [==============================] - 0s 2ms/step - loss: 27.9490 - mean_squared_logarithmic_error: 1.3352e-04 - val_loss: 25.7794 - val_mean_squared_logarithmic_error: 1.2307e-04\n",
            "Epoch 194/200\n",
            "192/192 [==============================] - 0s 2ms/step - loss: 27.9626 - mean_squared_logarithmic_error: 1.3371e-04 - val_loss: 32.3822 - val_mean_squared_logarithmic_error: 1.5537e-04\n",
            "Epoch 195/200\n",
            "192/192 [==============================] - 0s 2ms/step - loss: 27.5252 - mean_squared_logarithmic_error: 1.3163e-04 - val_loss: 24.7895 - val_mean_squared_logarithmic_error: 1.1857e-04\n",
            "Epoch 196/200\n",
            "192/192 [==============================] - 0s 2ms/step - loss: 27.7832 - mean_squared_logarithmic_error: 1.3272e-04 - val_loss: 25.3545 - val_mean_squared_logarithmic_error: 1.2135e-04\n",
            "Epoch 197/200\n",
            "192/192 [==============================] - 0s 2ms/step - loss: 29.8277 - mean_squared_logarithmic_error: 1.4273e-04 - val_loss: 24.8073 - val_mean_squared_logarithmic_error: 1.1843e-04\n",
            "Epoch 198/200\n",
            "192/192 [==============================] - 0s 2ms/step - loss: 28.0305 - mean_squared_logarithmic_error: 1.3398e-04 - val_loss: 31.6958 - val_mean_squared_logarithmic_error: 1.5203e-04\n",
            "Epoch 199/200\n",
            "192/192 [==============================] - 0s 2ms/step - loss: 26.5785 - mean_squared_logarithmic_error: 1.2703e-04 - val_loss: 26.1790 - val_mean_squared_logarithmic_error: 1.2511e-04\n",
            "Epoch 200/200\n",
            "192/192 [==============================] - 0s 2ms/step - loss: 27.5042 - mean_squared_logarithmic_error: 1.3148e-04 - val_loss: 25.7351 - val_mean_squared_logarithmic_error: 1.2322e-04\n"
          ]
        }
      ]
    },
    {
      "cell_type": "markdown",
      "source": [
        "#**Testing the Model**"
      ],
      "metadata": {
        "id": "55PgRgP0rZ8A"
      }
    },
    {
      "cell_type": "code",
      "source": [
        "y_pred = classifier.predict(X_test)\n",
        "np.set_printoptions(precision=2)\n",
        "print(np.concatenate((y_pred.reshape(len(y_pred),1), y_test.reshape(len(y_test),1)),1))"
      ],
      "metadata": {
        "colab": {
          "base_uri": "https://localhost:8080/"
        },
        "id": "VPqoEf0VmVx0",
        "outputId": "a138b2c4-f4db-4e9a-c06d-f42bbfe322d9"
      },
      "execution_count": null,
      "outputs": [
        {
          "output_type": "stream",
          "name": "stdout",
          "text": [
            "60/60 [==============================] - 0s 843us/step\n",
            "[[462.64 469.4 ]\n",
            " [472.59 474.99]\n",
            " [457.21 465.57]\n",
            " ...\n",
            " [466.17 467.92]\n",
            " [450.21 442.92]\n",
            " [473.62 465.78]]\n"
          ]
        }
      ]
    },
    {
      "cell_type": "markdown",
      "source": [
        "#**Metric values**\n",
        "\n",
        "**MAE (Mean Absolute Error) :-**\n",
        "\n",
        "$$MAE = (\\frac{1}{n})\\sum_{i=1}^{n}\\left | y_{i} - \\hat y_{i} \\right |$$\n",
        "\n",
        "**MSE (Mean Square Error) :-**\n",
        "\n",
        "$$MSE = (\\frac{1}{n})\\sum_{i=1}^{n}\\left ( y_{i} - \\hat y_{i} \\right )^2$$\n",
        "\n",
        "where y = actual value in the data set ;  $\\hat y$ = value computed by solving the regression equation\n",
        "\n",
        "**RMSE (Root Mean Square Error) :-**\n",
        "\n",
        "$$RMSE = \\sqrt{(\\frac{1}{n})\\sum_{i=1}^{n}\\left ( y_{i} - \\hat y_{i} \\right )^2}$$\n"
      ],
      "metadata": {
        "id": "yPzDW1yuWGfP"
      }
    },
    {
      "cell_type": "code",
      "source": [
        "import matplotlib.pyplot as plt\n",
        "%matplotlib inline"
      ],
      "metadata": {
        "id": "csYqpviWXRY2"
      },
      "execution_count": null,
      "outputs": []
    },
    {
      "cell_type": "code",
      "source": [
        "import sklearn.metrics\n",
        "from math import sqrt\n",
        "mae_no = sklearn.metrics.mean_absolute_error(y_test,classifier.predict(X_test))\n",
        "mse_no = sklearn.metrics.mean_squared_error(y_test,classifier.predict(X_test))\n",
        "rms = sqrt(sklearn.metrics.mean_squared_error(y_test,classifier.predict(X_test)))"
      ],
      "metadata": {
        "colab": {
          "base_uri": "https://localhost:8080/"
        },
        "id": "jVhrXBFOXRa-",
        "outputId": "051d8561-1948-494e-f505-3348850528cd"
      },
      "execution_count": null,
      "outputs": [
        {
          "output_type": "stream",
          "name": "stdout",
          "text": [
            "60/60 [==============================] - 0s 878us/step\n",
            "60/60 [==============================] - 0s 975us/step\n",
            "60/60 [==============================] - 0s 1ms/step\n"
          ]
        }
      ]
    },
    {
      "cell_type": "code",
      "source": [
        "print('Mean Absolute Error     :',mae_no)\n",
        "print('Mean Square Error       :',mse_no)\n",
        "print('Root Mean Square Error:', rms)"
      ],
      "metadata": {
        "colab": {
          "base_uri": "https://localhost:8080/"
        },
        "id": "OjxSyJCdXRdF",
        "outputId": "3880a46f-9281-4d60-fee3-afda8364c28a"
      },
      "execution_count": null,
      "outputs": [
        {
          "output_type": "stream",
          "name": "stdout",
          "text": [
            "Mean Absolute Error     : 4.248118522747682\n",
            "Mean Square Error       : 28.60181611846972\n",
            "Root Mean Square Error: 5.348066577602575\n"
          ]
        }
      ]
    },
    {
      "cell_type": "code",
      "source": [],
      "metadata": {
        "id": "ZGZUEXZsYEln"
      },
      "execution_count": null,
      "outputs": []
    }
  ]
}